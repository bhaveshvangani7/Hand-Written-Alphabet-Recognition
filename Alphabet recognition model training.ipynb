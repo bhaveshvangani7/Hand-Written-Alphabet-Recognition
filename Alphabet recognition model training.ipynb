{
 "cells": [
  {
   "cell_type": "markdown",
   "id": "c1916061",
   "metadata": {},
   "source": [
    "Importing libraries"
   ]
  },
  {
   "cell_type": "code",
   "execution_count": null,
   "id": "32cd6398",
   "metadata": {},
   "outputs": [],
   "source": [
    "import matplotlib\n",
    "import matplotlib.pyplot as plt\n",
    "import pandas as pd\n",
    "import numpy as np\n",
    "import tensorflow as tf\n",
    "from sklearn.model_selection import train_test_split"
   ]
  },
  {
   "cell_type": "markdown",
   "id": "4172d992",
   "metadata": {},
   "source": [
    "reading the dataset\n"
   ]
  },
  {
   "cell_type": "code",
   "execution_count": null,
   "id": "81e2d0d1",
   "metadata": {},
   "outputs": [],
   "source": [
    "alphabet=pd.read_csv('A_Z Handwritten Data.csv')"
   ]
  },
  {
   "cell_type": "markdown",
   "id": "ff915a7b",
   "metadata": {},
   "source": [
    "Splitting into training and testing dataset"
   ]
  },
  {
   "cell_type": "code",
   "execution_count": null,
   "id": "d045098f",
   "metadata": {},
   "outputs": [],
   "source": [
    "X=alphabet.drop(columns='letters')\n",
    "y=alphabet['letters']\n",
    "X_train,X_test,y_train,y_test=train_test_split(X,y,test_size=0.2)\n",
    "##some_alphabet = np.array(X_train.iloc[3297])\n",
    "##some_alphabet_image = some_alphabet.reshape(28,28)\n",
    "\n",
    "\n",
    "plt.imshow(some_alphabet_image, cmap=matplotlib.cm.binary)\n",
    "X_train = tf.keras.utils.normalize(X_train,axis=1)\n",
    "X_test = tf.keras.utils.normalize(X_test,axis=1)\n",
    "##plt.imshow(some_alphabet_image, cmap=matplotlib.cm.binary)\n",
    "##print(np.array(X_train.iloc[3297]))\n",
    "##print((np.array(y_train.iloc[3297])))"
   ]
  },
  {
   "cell_type": "markdown",
   "id": "3e7a2eab",
   "metadata": {},
   "source": [
    "Reshaping the traing and testing dataset"
   ]
  },
  {
   "cell_type": "code",
   "execution_count": 3,
   "id": "03ce9692",
   "metadata": {},
   "outputs": [
    {
     "name": "stdout",
     "output_type": "stream",
     "text": [
      "(297960, 28, 28, 1)\n",
      "(74491, 28, 28, 1)\n"
     ]
    }
   ],
   "source": [
    "img_size=28\n",
    "X_trainr=np.array(X_train).reshape(-1,img_size,img_size,1)\n",
    "X_testr=np.array(X_test).reshape(-1,img_size,img_size,1)\n",
    "print(X_trainr.shape)\n",
    "print(X_testr.shape)"
   ]
  },
  {
   "cell_type": "markdown",
   "id": "fa604e4d",
   "metadata": {},
   "source": [
    "Loading CNN libraries"
   ]
  },
  {
   "cell_type": "code",
   "execution_count": 4,
   "id": "6135ea31",
   "metadata": {},
   "outputs": [],
   "source": [
    "from tensorflow.keras import Sequential\n",
    "from tensorflow.keras.layers import Dense, Dropout, Activation, Flatten, Conv2D, MaxPooling2D"
   ]
  },
  {
   "cell_type": "markdown",
   "id": "c7db8bc2",
   "metadata": {},
   "source": [
    "Training the model"
   ]
  },
  {
   "cell_type": "code",
   "execution_count": 214,
   "id": "25ab8f39",
   "metadata": {},
   "outputs": [],
   "source": [
    "model=Sequential()\n",
    "model.add(Conv2D(64,(3,3),input_shape = X_trainr.shape[1:]))\n",
    "model.add(Activation(\"relu\"))\n",
    "model.add(MaxPooling2D(pool_size=(2,2)))\n",
    "\n",
    "model.add(Conv2D(64,(3,3),input_shape = X_trainr.shape[1:]))\n",
    "model.add(Activation(\"relu\"))\n",
    "model.add(MaxPooling2D(pool_size=(2,2)))\n",
    "\n",
    "model.add(Conv2D(64,(3,3),input_shape = X_trainr.shape[1:]))\n",
    "model.add(Activation(\"relu\"))\n",
    "model.add(MaxPooling2D(pool_size=(2,2)))\n",
    "\n",
    "model.add(Flatten())\n",
    "model.add(Dense(64))\n",
    "model.add(Activation(\"relu\"))\n",
    "\n",
    "model.add(Dense(26))\n",
    "model.add(Activation(\"softmax\"))"
   ]
  },
  {
   "cell_type": "code",
   "execution_count": 215,
   "id": "609e3a73",
   "metadata": {},
   "outputs": [
    {
     "name": "stdout",
     "output_type": "stream",
     "text": [
      "Model: \"sequential_2\"\n",
      "_________________________________________________________________\n",
      "Layer (type)                 Output Shape              Param #   \n",
      "=================================================================\n",
      "conv2d_6 (Conv2D)            (None, 26, 26, 64)        640       \n",
      "_________________________________________________________________\n",
      "activation_13 (Activation)   (None, 26, 26, 64)        0         \n",
      "_________________________________________________________________\n",
      "max_pooling2d_6 (MaxPooling2 (None, 13, 13, 64)        0         \n",
      "_________________________________________________________________\n",
      "conv2d_7 (Conv2D)            (None, 11, 11, 64)        36928     \n",
      "_________________________________________________________________\n",
      "activation_14 (Activation)   (None, 11, 11, 64)        0         \n",
      "_________________________________________________________________\n",
      "max_pooling2d_7 (MaxPooling2 (None, 5, 5, 64)          0         \n",
      "_________________________________________________________________\n",
      "conv2d_8 (Conv2D)            (None, 3, 3, 64)          36928     \n",
      "_________________________________________________________________\n",
      "activation_15 (Activation)   (None, 3, 3, 64)          0         \n",
      "_________________________________________________________________\n",
      "max_pooling2d_8 (MaxPooling2 (None, 1, 1, 64)          0         \n",
      "_________________________________________________________________\n",
      "flatten_4 (Flatten)          (None, 64)                0         \n",
      "_________________________________________________________________\n",
      "dense_7 (Dense)              (None, 64)                4160      \n",
      "_________________________________________________________________\n",
      "activation_16 (Activation)   (None, 64)                0         \n",
      "_________________________________________________________________\n",
      "dense_8 (Dense)              (None, 26)                1690      \n",
      "_________________________________________________________________\n",
      "activation_17 (Activation)   (None, 26)                0         \n",
      "=================================================================\n",
      "Total params: 80,346\n",
      "Trainable params: 80,346\n",
      "Non-trainable params: 0\n",
      "_________________________________________________________________\n"
     ]
    }
   ],
   "source": [
    "model.summary()"
   ]
  },
  {
   "cell_type": "code",
   "execution_count": 216,
   "id": "4a1bd17e",
   "metadata": {},
   "outputs": [],
   "source": [
    "model.compile(loss=\"sparse_categorical_crossentropy\", optimizer=\"Adam\", metrics=['accuracy'])\n",
    "              "
   ]
  },
  {
   "cell_type": "code",
   "execution_count": 217,
   "id": "24d39202",
   "metadata": {},
   "outputs": [
    {
     "name": "stdout",
     "output_type": "stream",
     "text": [
      "Epoch 1/5\n",
      "6518/6518 [==============================] - 182s 28ms/step - loss: 0.3386 - accuracy: 0.9026 - val_loss: 0.1390 - val_accuracy: 0.9599\n",
      "Epoch 2/5\n",
      "6518/6518 [==============================] - 192s 29ms/step - loss: 0.1221 - accuracy: 0.9646 - val_loss: 0.1093 - val_accuracy: 0.9688\n",
      "Epoch 3/5\n",
      "6518/6518 [==============================] - 193s 30ms/step - loss: 0.0911 - accuracy: 0.9734 - val_loss: 0.0833 - val_accuracy: 0.9763\n",
      "Epoch 4/5\n",
      "6518/6518 [==============================] - 193s 30ms/step - loss: 0.0749 - accuracy: 0.9779 - val_loss: 0.0773 - val_accuracy: 0.9777\n",
      "Epoch 5/5\n",
      "6518/6518 [==============================] - 192s 29ms/step - loss: 0.0640 - accuracy: 0.9807 - val_loss: 0.0692 - val_accuracy: 0.9799\n"
     ]
    },
    {
     "data": {
      "text/plain": [
       "<tensorflow.python.keras.callbacks.History at 0x140bdd356a0>"
      ]
     },
     "execution_count": 217,
     "metadata": {},
     "output_type": "execute_result"
    }
   ],
   "source": [
    "model.fit(X_trainr,y_train,epochs=5,validation_split=0.3)"
   ]
  },
  {
   "cell_type": "code",
   "execution_count": 218,
   "id": "091b8940",
   "metadata": {
    "scrolled": true
   },
   "outputs": [
    {
     "name": "stdout",
     "output_type": "stream",
     "text": [
      "2328/2328 [==============================] - 21s 9ms/step - loss: 0.0724 - accuracy: 0.9787\n",
      "Test loss 0.07240121066570282\n",
      "validation accuracy 0.9786819815635681\n"
     ]
    }
   ],
   "source": [
    "test_loss, test_acc = model.evaluate(X_testr,y_test)\n",
    "print(\"Test loss\",test_loss)\n",
    "print(\"validation accuracy\",test_acc)"
   ]
  },
  {
   "cell_type": "markdown",
   "id": "54daa69d",
   "metadata": {},
   "source": [
    "Testing random predictions"
   ]
  },
  {
   "cell_type": "code",
   "execution_count": 219,
   "id": "23772ec6",
   "metadata": {},
   "outputs": [
    {
     "name": "stdout",
     "output_type": "stream",
     "text": [
      "4\n"
     ]
    }
   ],
   "source": [
    "predictions= model.predict(X_testr)\n",
    "print(np.argmax(predictions[6969]))"
   ]
  },
  {
   "cell_type": "code",
   "execution_count": 220,
   "id": "9ee07340",
   "metadata": {
    "scrolled": true
   },
   "outputs": [
    {
     "data": {
      "text/plain": [
       "<matplotlib.image.AxesImage at 0x140e9736d90>"
      ]
     },
     "execution_count": 220,
     "metadata": {},
     "output_type": "execute_result"
    },
    {
     "data": {
      "image/png": "[encoded data removed]",
      "text/plain": [
       "<Figure size 432x288 with 1 Axes>"
      ]
     },
     "metadata": {
      "needs_background": "light"
     },
     "output_type": "display_data"
    }
   ],
   "source": [
    "alpha = np.array(X_test.iloc[6969])\n",
    "alpha_image = alpha.reshape(28,28)\n",
    "plt.imshow(alpha_image)"
   ]
  },
  {
   "cell_type": "markdown",
   "id": "3b11d0fe",
   "metadata": {},
   "source": [
    "Reading image, reshaping, resizing,normalization and prediction"
   ]
  },
  {
   "cell_type": "code",
   "execution_count": 221,
   "id": "5d8f77fc",
   "metadata": {},
   "outputs": [],
   "source": [
    "import cv2"
   ]
  },
  {
   "cell_type": "code",
   "execution_count": 255,
   "id": "9cde4c60",
   "metadata": {
    "scrolled": true
   },
   "outputs": [
    {
     "name": "stdout",
     "output_type": "stream",
     "text": [
      "The letter is:  G\n"
     ]
    },
    {
     "data": {
      "image/png": "[encoded data removed]",
      "text/plain": [
       "<Figure size 432x288 with 1 Axes>"
      ]
     },
     "metadata": {
      "needs_background": "light"
     },
     "output_type": "display_data"
    }
   ],
   "source": [
    "img= cv2.imread('g letter.png')\n",
    "plt.imshow(img)\n",
    "gray=cv2.cvtColor(img,cv2.COLOR_BGR2GRAY)\n",
    "resized = cv2.resize(gray,(28,28),interpolation=cv2.INTER_AREA)\n",
    "newimg=tf.keras.utils.normalize(resized, axis=1)\n",
    "newimg= np.array(newimg).reshape(-1,img_size,img_size,1)\n",
    "newimg.shape\n",
    "predictions = model.predict(newimg)\n",
    "convert={0:'A',1:'B',2:'C',3:'D',4:'E',5:'F',6:'G',\n",
    "         7:'H',8:'I',9:'J',10:'K',11:'L',12:'M',13:'N',\n",
    "         14:'O',15:'P',16:'Q',17:'R',18:'S',19:'T',20:'U',\n",
    "         21:'V',22:'W',23:'X',24:'Y',25:'Z'}\n",
    "print(\"The letter is: \",convert[np.argmax(predictions)])"
   ]
  },
  {
   "cell_type": "markdown",
   "id": "94c37d78",
   "metadata": {},
   "source": [
    "Importing library for saving the model"
   ]
  },
  {
   "cell_type": "code",
   "execution_count": 256,
   "id": "3057086c",
   "metadata": {},
   "outputs": [],
   "source": [
    "from keras.models import save_model"
   ]
  },
  {
   "cell_type": "markdown",
   "id": "98a28ed9",
   "metadata": {},
   "source": [
    "Saving the model"
   ]
  },
  {
   "cell_type": "code",
   "execution_count": 257,
   "id": "de01715d",
   "metadata": {},
   "outputs": [
    {
     "name": "stdout",
     "output_type": "stream",
     "text": [
      "INFO:tensorflow:Assets written to: D:\\jupyter projects ml\\Alphabet_recognition model\\assets\n"
     ]
    }
   ],
   "source": [
    "model.save('D:\\jupyter projects ml\\Alphabet_recognition model')"
   ]
  }
 ],
 "metadata": {
  "kernelspec": {
   "display_name": "Python 3 (ipykernel)",
   "language": "python",
   "name": "python3"
  },
  "language_info": {
   "codemirror_mode": {
    "name": "ipython",
    "version": 3
   },
   "file_extension": ".py",
   "mimetype": "text/x-python",
   "name": "python",
   "nbconvert_exporter": "python",
   "pygments_lexer": "ipython3",
   "version": "3.9.12"
  }
 },
 "nbformat": 4,
 "nbformat_minor": 5
}
